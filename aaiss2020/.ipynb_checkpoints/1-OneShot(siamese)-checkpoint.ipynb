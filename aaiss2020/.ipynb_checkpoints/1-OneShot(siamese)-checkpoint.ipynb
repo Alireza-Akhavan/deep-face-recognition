{
 "cells": [
  {
   "cell_type": "code",
   "execution_count": 1,
   "metadata": {},
   "outputs": [
    {
     "name": "stderr",
     "output_type": "stream",
     "text": [
      "Using TensorFlow backend.\n"
     ]
    }
   ],
   "source": [
    "import random\n",
    "import numpy as np\n",
    "import keras\n",
    "from keras.models import Sequential, Model\n",
    "from keras.layers import Flatten, Dense, Concatenate, Dot, Lambda, Input\n",
    "from keras.datasets import mnist\n",
    "from keras.optimizers import Adam\n",
    "import matplotlib.pyplot as plt\n"
   ]
  },
  {
   "cell_type": "code",
   "execution_count": 2,
   "metadata": {},
   "outputs": [],
   "source": [
    "# load data\n",
    "\n",
    "(x_train, y_train), (x_test, y_test) = mnist.load_data()\n",
    "x_train = x_train.astype('float32')\n",
    "x_test = x_test.astype('float32')\n",
    "x_train /= 255\n",
    "x_test /= 255"
   ]
  },
  {
   "cell_type": "code",
   "execution_count": 3,
   "metadata": {},
   "outputs": [],
   "source": [
    "# make pairs\n",
    "def make_pairs(x, y):\n",
    "    num_classes = max(y) + 1\n",
    "    digit_indices = [np.where(y == i)[0] for i in range(num_classes)]\n",
    "\n",
    "    pairs = []\n",
    "    labels = []\n",
    "\n",
    "    for idx1 in range(len(x)):\n",
    "        # add a matching example\n",
    "        x1 = x[idx1]\n",
    "        label1 = y[idx1]\n",
    "        idx2 = random.choice(digit_indices[label1])\n",
    "        x2 = x[idx2]\n",
    "        \n",
    "        pairs += [[x1, x2]]\n",
    "        labels += [1]\n",
    "    \n",
    "        # add a not matching example\n",
    "        label2 = random.randint(0, num_classes-1)\n",
    "        while label2 == label1:\n",
    "            label2 = random.randint(0, num_classes-1)\n",
    "\n",
    "        idx2 = random.choice(digit_indices[label2])\n",
    "        x2 = x[idx2]\n",
    "        \n",
    "        pairs += [[x1, x2]]\n",
    "        labels += [0]\n",
    "\n",
    "    return np.array(pairs), np.array(labels)\n",
    "\n",
    "pairs_train, labels_train = make_pairs(x_train, y_train)\n",
    "pairs_test, labels_test = make_pairs(x_test, y_test)"
   ]
  },
  {
   "cell_type": "code",
   "execution_count": 4,
   "metadata": {},
   "outputs": [
    {
     "data": {
      "text/plain": [
       "(120000, 2, 28, 28)"
      ]
     },
     "execution_count": 4,
     "metadata": {},
     "output_type": "execute_result"
    }
   ],
   "source": [
    "pairs_train.shape"
   ]
  },
  {
   "cell_type": "code",
   "execution_count": 5,
   "metadata": {},
   "outputs": [
    {
     "data": {
      "text/plain": [
       "(120000,)"
      ]
     },
     "execution_count": 5,
     "metadata": {},
     "output_type": "execute_result"
    }
   ],
   "source": [
    "labels_train.shape"
   ]
  },
  {
   "cell_type": "code",
   "execution_count": 6,
   "metadata": {},
   "outputs": [
    {
     "data": {
      "text/plain": [
       "array([1, 0, 1, ..., 0, 1, 0])"
      ]
     },
     "execution_count": 6,
     "metadata": {},
     "output_type": "execute_result"
    }
   ],
   "source": [
    "labels_train"
   ]
  },
  {
   "cell_type": "code",
   "execution_count": 7,
   "metadata": {},
   "outputs": [
    {
     "name": "stdout",
     "output_type": "stream",
     "text": [
      "1\n"
     ]
    },
    {
     "data": {
      "image/png": "[encoded data removed]",
      "text/plain": [
       "<Figure size 432x288 with 1 Axes>"
      ]
     },
     "metadata": {
      "needs_background": "light"
     },
     "output_type": "display_data"
    }
   ],
   "source": [
    "# take a peek at the data\n",
    "plt.imshow(pairs_train[400,0])\n",
    "print(labels_train[400])"
   ]
  },
  {
   "cell_type": "code",
   "execution_count": 8,
   "metadata": {},
   "outputs": [],
   "source": [
    "# Weights not shared\n",
    "\n",
    "seq1 = Sequential()\n",
    "seq1.add(Flatten(input_shape=(28,28)))\n",
    "seq1.add(Dense(128, activation='relu'))\n",
    "\n",
    "seq2 = Sequential()\n",
    "seq2.add(Flatten(input_shape=(28,28)))\n",
    "seq2.add(Dense(128, activation='relu'))\n",
    "\n",
    "merge_layer = Concatenate()([seq1.output, seq2.output])\n",
    "dense_layer = Dense(1, activation=\"sigmoid\")(merge_layer)\n",
    "model = Model(inputs=[seq1.input, seq2.input], outputs=dense_layer)\n"
   ]
  },
  {
   "cell_type": "code",
   "execution_count": 9,
   "metadata": {},
   "outputs": [
    {
     "name": "stdout",
     "output_type": "stream",
     "text": [
      "Model: \"model_1\"\n",
      "__________________________________________________________________________________________________\n",
      "Layer (type)                    Output Shape         Param #     Connected to                     \n",
      "==================================================================================================\n",
      "flatten_1_input (InputLayer)    (None, 28, 28)       0                                            \n",
      "__________________________________________________________________________________________________\n",
      "flatten_2_input (InputLayer)    (None, 28, 28)       0                                            \n",
      "__________________________________________________________________________________________________\n",
      "flatten_1 (Flatten)             (None, 784)          0           flatten_1_input[0][0]            \n",
      "__________________________________________________________________________________________________\n",
      "flatten_2 (Flatten)             (None, 784)          0           flatten_2_input[0][0]            \n",
      "__________________________________________________________________________________________________\n",
      "dense_1 (Dense)                 (None, 128)          100480      flatten_1[0][0]                  \n",
      "__________________________________________________________________________________________________\n",
      "dense_2 (Dense)                 (None, 128)          100480      flatten_2[0][0]                  \n",
      "__________________________________________________________________________________________________\n",
      "concatenate_1 (Concatenate)     (None, 256)          0           dense_1[0][0]                    \n",
      "                                                                 dense_2[0][0]                    \n",
      "__________________________________________________________________________________________________\n",
      "dense_3 (Dense)                 (None, 1)            257         concatenate_1[0][0]              \n",
      "==================================================================================================\n",
      "Total params: 201,217\n",
      "Trainable params: 201,217\n",
      "Non-trainable params: 0\n",
      "__________________________________________________________________________________________________\n"
     ]
    }
   ],
   "source": [
    "model.compile(loss = \"binary_crossentropy\", optimizer=\"adam\", metrics=[\"accuracy\"])\n",
    "model.summary()"
   ]
  },
  {
   "cell_type": "code",
   "execution_count": 10,
   "metadata": {},
   "outputs": [
    {
     "name": "stdout",
     "output_type": "stream",
     "text": [
      "Epoch 1/10\n",
      "120000/120000 [==============================] - 29s 240us/step - loss: 0.6949 - accuracy: 0.5025\n",
      "Epoch 2/10\n",
      "120000/120000 [==============================] - 30s 246us/step - loss: 0.6933 - accuracy: 0.5043\n",
      "Epoch 3/10\n",
      "120000/120000 [==============================] - 32s 267us/step - loss: 0.6931 - accuracy: 0.5070\n",
      "Epoch 4/10\n",
      "120000/120000 [==============================] - 32s 268us/step - loss: 0.6928 - accuracy: 0.5080\n",
      "Epoch 5/10\n",
      "120000/120000 [==============================] - 33s 273us/step - loss: 0.6924 - accuracy: 0.5090\n",
      "Epoch 6/10\n",
      "120000/120000 [==============================] - 33s 273us/step - loss: 0.6918 - accuracy: 0.5110\n",
      "Epoch 7/10\n",
      "120000/120000 [==============================] - 34s 285us/step - loss: 0.6910 - accuracy: 0.5160\n",
      "Epoch 8/10\n",
      "120000/120000 [==============================] - 32s 268us/step - loss: 0.6904 - accuracy: 0.5149\n",
      "Epoch 9/10\n",
      "120000/120000 [==============================] - 32s 265us/step - loss: 0.6897 - accuracy: 0.5182\n",
      "Epoch 10/10\n",
      "120000/120000 [==============================] - 32s 264us/step - loss: 0.6891 - accuracy: 0.5197\n"
     ]
    },
    {
     "data": {
      "text/plain": [
       "<keras.callbacks.callbacks.History at 0x7efb7fb52a00>"
      ]
     },
     "execution_count": 10,
     "metadata": {},
     "output_type": "execute_result"
    }
   ],
   "source": [
    "model.fit([pairs_train[:,0], pairs_train[:,1]], labels_train[:], batch_size=16, epochs= 10)"
   ]
  },
  {
   "cell_type": "code",
   "execution_count": 11,
   "metadata": {},
   "outputs": [],
   "source": [
    "input = Input((28,28))\n",
    "x = Flatten()(input)\n",
    "x = Dense(128, activation='relu')(x)\n",
    "dense = Model(input, x)\n",
    "\n",
    "input1 = Input((28,28))\n",
    "input2 = Input((28,28))\n",
    "\n",
    "dense1 = dense(input1)\n",
    "dense2 = dense(input2)\n",
    "\n",
    "merge_layer = Concatenate()([dense1, dense2])\n",
    "dense_layer = Dense(1, activation=\"sigmoid\")(merge_layer)\n",
    "model = Model(inputs=[input1, input2], outputs=dense_layer)\n"
   ]
  },
  {
   "cell_type": "code",
   "execution_count": 12,
   "metadata": {},
   "outputs": [
    {
     "name": "stdout",
     "output_type": "stream",
     "text": [
      "Model: \"model_3\"\n",
      "__________________________________________________________________________________________________\n",
      "Layer (type)                    Output Shape         Param #     Connected to                     \n",
      "==================================================================================================\n",
      "input_2 (InputLayer)            (None, 28, 28)       0                                            \n",
      "__________________________________________________________________________________________________\n",
      "input_3 (InputLayer)            (None, 28, 28)       0                                            \n",
      "__________________________________________________________________________________________________\n",
      "model_2 (Model)                 (None, 128)          100480      input_2[0][0]                    \n",
      "                                                                 input_3[0][0]                    \n",
      "__________________________________________________________________________________________________\n",
      "concatenate_2 (Concatenate)     (None, 256)          0           model_2[1][0]                    \n",
      "                                                                 model_2[2][0]                    \n",
      "__________________________________________________________________________________________________\n",
      "dense_5 (Dense)                 (None, 1)            257         concatenate_2[0][0]              \n",
      "==================================================================================================\n",
      "Total params: 100,737\n",
      "Trainable params: 100,737\n",
      "Non-trainable params: 0\n",
      "__________________________________________________________________________________________________\n"
     ]
    }
   ],
   "source": [
    "model.compile(loss = \"binary_crossentropy\", optimizer=\"adam\", metrics=[\"accuracy\"])\n",
    "model.summary()"
   ]
  },
  {
   "cell_type": "code",
   "execution_count": 13,
   "metadata": {},
   "outputs": [
    {
     "name": "stdout",
     "output_type": "stream",
     "text": [
      "Epoch 1/10\n",
      "120000/120000 [==============================] - 28s 229us/step - loss: 0.6941 - accuracy: 0.5056\n",
      "Epoch 2/10\n",
      "120000/120000 [==============================] - 28s 231us/step - loss: 0.6932 - accuracy: 0.4981\n",
      "Epoch 3/10\n",
      "120000/120000 [==============================] - 28s 236us/step - loss: 0.6930 - accuracy: 0.5048\n",
      "Epoch 4/10\n",
      "120000/120000 [==============================] - 28s 230us/step - loss: 0.6929 - accuracy: 0.5032\n",
      "Epoch 5/10\n",
      "120000/120000 [==============================] - 28s 233us/step - loss: 0.6928 - accuracy: 0.5050\n",
      "Epoch 6/10\n",
      "120000/120000 [==============================] - 28s 234us/step - loss: 0.6925 - accuracy: 0.5044\n",
      "Epoch 7/10\n",
      "120000/120000 [==============================] - 28s 237us/step - loss: 0.6923 - accuracy: 0.5115\n",
      "Epoch 8/10\n",
      "120000/120000 [==============================] - 28s 235us/step - loss: 0.6920 - accuracy: 0.5103\n",
      "Epoch 9/10\n",
      "120000/120000 [==============================] - 28s 234us/step - loss: 0.6918 - accuracy: 0.5105\n",
      "Epoch 10/10\n",
      "120000/120000 [==============================] - 28s 233us/step - loss: 0.6915 - accuracy: 0.5110\n"
     ]
    },
    {
     "data": {
      "text/plain": [
       "<keras.callbacks.callbacks.History at 0x7efb73333bb0>"
      ]
     },
     "execution_count": 13,
     "metadata": {},
     "output_type": "execute_result"
    }
   ],
   "source": [
    "model.fit([pairs_train[:,0], pairs_train[:,1]], labels_train[:], batch_size=16, epochs=10)"
   ]
  },
  {
   "cell_type": "code",
   "execution_count": 14,
   "metadata": {},
   "outputs": [],
   "source": [
    "from keras import backend as K\n",
    "\n",
    "def euclidean_distance(vects):\n",
    "    x, y = vects\n",
    "    sum_square = K.sum(K.square(x - y), axis=1, keepdims=True)\n",
    "    return K.sqrt(K.maximum(sum_square, K.epsilon()))\n",
    "\n",
    "\n",
    "input = Input((28,28))\n",
    "x = Flatten()(input)\n",
    "x = Dense(128, activation='relu')(x)\n",
    "dense = Model(input, x)\n",
    "\n",
    "input1 = Input((28,28))\n",
    "input2 = Input((28,28))\n",
    "\n",
    "dense1 = dense(input1)\n",
    "dense2 = dense(input2)\n",
    "\n",
    "merge_layer = Lambda(euclidean_distance)([dense1,dense2])\n",
    "dense_layer = Dense(1, activation=\"sigmoid\")(merge_layer)\n",
    "model = Model(inputs=[input1, input2], outputs=dense_layer)\n"
   ]
  },
  {
   "cell_type": "code",
   "execution_count": 15,
   "metadata": {},
   "outputs": [
    {
     "name": "stdout",
     "output_type": "stream",
     "text": [
      "Model: \"model_5\"\n",
      "__________________________________________________________________________________________________\n",
      "Layer (type)                    Output Shape         Param #     Connected to                     \n",
      "==================================================================================================\n",
      "input_5 (InputLayer)            (None, 28, 28)       0                                            \n",
      "__________________________________________________________________________________________________\n",
      "input_6 (InputLayer)            (None, 28, 28)       0                                            \n",
      "__________________________________________________________________________________________________\n",
      "model_4 (Model)                 (None, 128)          100480      input_5[0][0]                    \n",
      "                                                                 input_6[0][0]                    \n",
      "__________________________________________________________________________________________________\n",
      "lambda_1 (Lambda)               (None, 1)            0           model_4[1][0]                    \n",
      "                                                                 model_4[2][0]                    \n",
      "__________________________________________________________________________________________________\n",
      "dense_7 (Dense)                 (None, 1)            2           lambda_1[0][0]                   \n",
      "==================================================================================================\n",
      "Total params: 100,482\n",
      "Trainable params: 100,482\n",
      "Non-trainable params: 0\n",
      "__________________________________________________________________________________________________\n"
     ]
    }
   ],
   "source": [
    "model.compile(loss = \"binary_crossentropy\", optimizer=\"adam\", metrics=[\"accuracy\"])\n",
    "model.summary()"
   ]
  },
  {
   "cell_type": "code",
   "execution_count": 16,
   "metadata": {},
   "outputs": [
    {
     "name": "stdout",
     "output_type": "stream",
     "text": [
      "Epoch 1/10\n",
      "120000/120000 [==============================] - 30s 253us/step - loss: 0.4361 - accuracy: 0.8034\n",
      "Epoch 2/10\n",
      "120000/120000 [==============================] - 30s 249us/step - loss: 0.3490 - accuracy: 0.8525\n",
      "Epoch 3/10\n",
      "120000/120000 [==============================] - 30s 250us/step - loss: 0.3335 - accuracy: 0.8598\n",
      "Epoch 4/10\n",
      "120000/120000 [==============================] - 30s 251us/step - loss: 0.3291 - accuracy: 0.8620\n",
      "Epoch 5/10\n",
      "120000/120000 [==============================] - 30s 249us/step - loss: 0.3266 - accuracy: 0.8631\n",
      "Epoch 6/10\n",
      "120000/120000 [==============================] - 31s 257us/step - loss: 0.3257 - accuracy: 0.8626\n",
      "Epoch 7/10\n",
      "120000/120000 [==============================] - 30s 252us/step - loss: 0.3240 - accuracy: 0.8641\n",
      "Epoch 8/10\n",
      "120000/120000 [==============================] - 30s 251us/step - loss: 0.3230 - accuracy: 0.8643\n",
      "Epoch 9/10\n",
      "120000/120000 [==============================] - 30s 251us/step - loss: 0.3221 - accuracy: 0.8642\n",
      "Epoch 10/10\n",
      "120000/120000 [==============================] - 36s 301us/step - loss: 0.3215 - accuracy: 0.8647\n"
     ]
    },
    {
     "data": {
      "text/plain": [
       "<keras.callbacks.callbacks.History at 0x7efb3c1b9e50>"
      ]
     },
     "execution_count": 16,
     "metadata": {},
     "output_type": "execute_result"
    }
   ],
   "source": [
    "model.fit([pairs_train[:,0], pairs_train[:,1]], labels_train[:], batch_size=16, epochs=10)"
   ]
  },
  {
   "cell_type": "markdown",
   "metadata": {},
   "source": [
    "source:\n",
    "    https://raw.githubusercontent.com/lukas/ml-class/master/videos/one-shot/"
   ]
  }
 ],
 "metadata": {
  "kernelspec": {
   "display_name": "Python 3",
   "language": "python",
   "name": "python3"
  },
  "language_info": {
   "codemirror_mode": {
    "name": "ipython",
    "version": 3
   },
   "file_extension": ".py",
   "mimetype": "text/x-python",
   "name": "python",
   "nbconvert_exporter": "python",
   "pygments_lexer": "ipython3",
   "version": "3.8.3"
  }
 },
 "nbformat": 4,
 "nbformat_minor": 2
}

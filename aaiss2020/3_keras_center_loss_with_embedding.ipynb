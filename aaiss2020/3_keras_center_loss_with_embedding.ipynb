{
  "nbformat": 4,
  "nbformat_minor": 0,
  "metadata": {
    "anaconda-cloud": {},
    "kernelspec": {
      "display_name": "Python 3",
      "language": "python",
      "name": "python3"
    },
    "language_info": {
      "codemirror_mode": {
        "name": "ipython",
        "version": 3
      },
      "file_extension": ".py",
      "mimetype": "text/x-python",
      "name": "python",
      "nbconvert_exporter": "python",
      "pygments_lexer": "ipython3",
      "version": "3.8.3"
    },
    "colab": {
      "name": "3-keras_center_loss_with_embedding.ipynb",
      "provenance": []
    },
    "accelerator": "GPU"
  },
  "cells": [
    {
      "cell_type": "code",
      "metadata": {
        "id": "xzGy398kM2xJ",
        "colab_type": "code",
        "colab": {}
      },
      "source": [
        "from keras.datasets import mnist\n",
        "from keras.layers import Input,Conv2D,Activation,Dense,Lambda,Flatten,Embedding,PReLU,BatchNormalization\n",
        "from keras.models import Model\n",
        "import keras.backend as K\n",
        "from keras.utils import to_categorical\n",
        "import numpy as np\n",
        "from keras.callbacks import EarlyStopping"
      ],
      "execution_count": 1,
      "outputs": []
    },
    {
      "cell_type": "code",
      "metadata": {
        "id": "DxZsPyIsM2xh",
        "colab_type": "code",
        "colab": {
          "base_uri": "https://localhost:8080/",
          "height": 52
        },
        "outputId": "71d7fef0-95eb-424e-c20e-c7538bd96623"
      },
      "source": [
        "from keras.datasets import mnist\n",
        "# load data\n",
        "\n",
        "(x_train, y_train), (x_test, y_test) = mnist.load_data()\n",
        "x_train = x_train.astype('float32')\n",
        "x_test = x_test.astype('float32')\n",
        "x_train /= 255\n",
        "x_test /= 255"
      ],
      "execution_count": 2,
      "outputs": [
        {
          "output_type": "stream",
          "text": [
            "Downloading data from https://storage.googleapis.com/tensorflow/tf-keras-datasets/mnist.npz\n",
            "11493376/11490434 [==============================] - 0s 0us/step\n"
          ],
          "name": "stdout"
        }
      ]
    },
    {
      "cell_type": "code",
      "metadata": {
        "id": "0pzO4VaOM2yC",
        "colab_type": "code",
        "colab": {
          "base_uri": "https://localhost:8080/",
          "height": 955
        },
        "outputId": "3948bc94-378f-4a26-c833-c8a5e77ecce5"
      },
      "source": [
        "inputs=Input((28,28,1))\n",
        "x=Conv2D(32,(3,3))(inputs)\n",
        "x=BatchNormalization()(x)\n",
        "x=PReLU()(x)\n",
        "x=Conv2D(32,(3,3))(x)\n",
        "x=BatchNormalization()(x)\n",
        "x=PReLU()(x)\n",
        "x=Conv2D(64,(5,5))(x)\n",
        "x=BatchNormalization()(x)\n",
        "x=PReLU()(x)\n",
        "x=Conv2D(64,(5,5))(x)\n",
        "x=BatchNormalization()(x)\n",
        "x=PReLU()(x)\n",
        "x=Conv2D(128,(7,7))(x)\n",
        "x=BatchNormalization()(x)\n",
        "x=PReLU()(x)\n",
        "x=Conv2D(128,(7,7))(x)\n",
        "x=BatchNormalization()(x)\n",
        "x=PReLU()(x)\n",
        "x=Flatten()(x)\n",
        "x=Dense(2)(x)\n",
        "out1=PReLU(name=\"out1\")(x)\n",
        "out2=Dense(10,activation=\"softmax\")(out1)\n",
        "\n",
        "model=Model(inputs,out2)\n",
        "model.summary()"
      ],
      "execution_count": 3,
      "outputs": [
        {
          "output_type": "stream",
          "text": [
            "Model: \"functional_1\"\n",
            "_________________________________________________________________\n",
            "Layer (type)                 Output Shape              Param #   \n",
            "=================================================================\n",
            "input_1 (InputLayer)         [(None, 28, 28, 1)]       0         \n",
            "_________________________________________________________________\n",
            "conv2d (Conv2D)              (None, 26, 26, 32)        320       \n",
            "_________________________________________________________________\n",
            "batch_normalization (BatchNo (None, 26, 26, 32)        128       \n",
            "_________________________________________________________________\n",
            "p_re_lu (PReLU)              (None, 26, 26, 32)        21632     \n",
            "_________________________________________________________________\n",
            "conv2d_1 (Conv2D)            (None, 24, 24, 32)        9248      \n",
            "_________________________________________________________________\n",
            "batch_normalization_1 (Batch (None, 24, 24, 32)        128       \n",
            "_________________________________________________________________\n",
            "p_re_lu_1 (PReLU)            (None, 24, 24, 32)        18432     \n",
            "_________________________________________________________________\n",
            "conv2d_2 (Conv2D)            (None, 20, 20, 64)        51264     \n",
            "_________________________________________________________________\n",
            "batch_normalization_2 (Batch (None, 20, 20, 64)        256       \n",
            "_________________________________________________________________\n",
            "p_re_lu_2 (PReLU)            (None, 20, 20, 64)        25600     \n",
            "_________________________________________________________________\n",
            "conv2d_3 (Conv2D)            (None, 16, 16, 64)        102464    \n",
            "_________________________________________________________________\n",
            "batch_normalization_3 (Batch (None, 16, 16, 64)        256       \n",
            "_________________________________________________________________\n",
            "p_re_lu_3 (PReLU)            (None, 16, 16, 64)        16384     \n",
            "_________________________________________________________________\n",
            "conv2d_4 (Conv2D)            (None, 10, 10, 128)       401536    \n",
            "_________________________________________________________________\n",
            "batch_normalization_4 (Batch (None, 10, 10, 128)       512       \n",
            "_________________________________________________________________\n",
            "p_re_lu_4 (PReLU)            (None, 10, 10, 128)       12800     \n",
            "_________________________________________________________________\n",
            "conv2d_5 (Conv2D)            (None, 4, 4, 128)         802944    \n",
            "_________________________________________________________________\n",
            "batch_normalization_5 (Batch (None, 4, 4, 128)         512       \n",
            "_________________________________________________________________\n",
            "p_re_lu_5 (PReLU)            (None, 4, 4, 128)         2048      \n",
            "_________________________________________________________________\n",
            "flatten (Flatten)            (None, 2048)              0         \n",
            "_________________________________________________________________\n",
            "dense (Dense)                (None, 2)                 4098      \n",
            "_________________________________________________________________\n",
            "out1 (PReLU)                 (None, 2)                 2         \n",
            "_________________________________________________________________\n",
            "dense_1 (Dense)              (None, 10)                30        \n",
            "=================================================================\n",
            "Total params: 1,470,594\n",
            "Trainable params: 1,469,698\n",
            "Non-trainable params: 896\n",
            "_________________________________________________________________\n"
          ],
          "name": "stdout"
        }
      ]
    },
    {
      "cell_type": "code",
      "metadata": {
        "id": "PJaNJTXBM2yZ",
        "colab_type": "code",
        "colab": {
          "base_uri": "https://localhost:8080/",
          "height": 1000
        },
        "outputId": "ba816f3d-e810-4a91-d5d8-173eb1539386"
      },
      "source": [
        "lambda_c=1\n",
        "input_=Input(shape=(1,))\n",
        "centers=Embedding(10,2)(input_)\n",
        "intra_loss=Lambda(lambda x:K.sum(K.square(x[0]-x[1][:,0]),1,keepdims=True))([out1,centers])\n",
        "model_center_loss=Model([inputs,input_],[out2,intra_loss])\n",
        "model_center_loss.compile(optimizer=\"sgd\",\n",
        "                          loss=[\"categorical_crossentropy\",lambda y_true,y_pred:y_pred],\n",
        "                          loss_weights=[1,lambda_c/2.],\n",
        "                          metrics=[\"acc\"])\n",
        "model_center_loss.summary()"
      ],
      "execution_count": 4,
      "outputs": [
        {
          "output_type": "stream",
          "text": [
            "Model: \"functional_3\"\n",
            "__________________________________________________________________________________________________\n",
            "Layer (type)                    Output Shape         Param #     Connected to                     \n",
            "==================================================================================================\n",
            "input_1 (InputLayer)            [(None, 28, 28, 1)]  0                                            \n",
            "__________________________________________________________________________________________________\n",
            "conv2d (Conv2D)                 (None, 26, 26, 32)   320         input_1[0][0]                    \n",
            "__________________________________________________________________________________________________\n",
            "batch_normalization (BatchNorma (None, 26, 26, 32)   128         conv2d[0][0]                     \n",
            "__________________________________________________________________________________________________\n",
            "p_re_lu (PReLU)                 (None, 26, 26, 32)   21632       batch_normalization[0][0]        \n",
            "__________________________________________________________________________________________________\n",
            "conv2d_1 (Conv2D)               (None, 24, 24, 32)   9248        p_re_lu[0][0]                    \n",
            "__________________________________________________________________________________________________\n",
            "batch_normalization_1 (BatchNor (None, 24, 24, 32)   128         conv2d_1[0][0]                   \n",
            "__________________________________________________________________________________________________\n",
            "p_re_lu_1 (PReLU)               (None, 24, 24, 32)   18432       batch_normalization_1[0][0]      \n",
            "__________________________________________________________________________________________________\n",
            "conv2d_2 (Conv2D)               (None, 20, 20, 64)   51264       p_re_lu_1[0][0]                  \n",
            "__________________________________________________________________________________________________\n",
            "batch_normalization_2 (BatchNor (None, 20, 20, 64)   256         conv2d_2[0][0]                   \n",
            "__________________________________________________________________________________________________\n",
            "p_re_lu_2 (PReLU)               (None, 20, 20, 64)   25600       batch_normalization_2[0][0]      \n",
            "__________________________________________________________________________________________________\n",
            "conv2d_3 (Conv2D)               (None, 16, 16, 64)   102464      p_re_lu_2[0][0]                  \n",
            "__________________________________________________________________________________________________\n",
            "batch_normalization_3 (BatchNor (None, 16, 16, 64)   256         conv2d_3[0][0]                   \n",
            "__________________________________________________________________________________________________\n",
            "p_re_lu_3 (PReLU)               (None, 16, 16, 64)   16384       batch_normalization_3[0][0]      \n",
            "__________________________________________________________________________________________________\n",
            "conv2d_4 (Conv2D)               (None, 10, 10, 128)  401536      p_re_lu_3[0][0]                  \n",
            "__________________________________________________________________________________________________\n",
            "batch_normalization_4 (BatchNor (None, 10, 10, 128)  512         conv2d_4[0][0]                   \n",
            "__________________________________________________________________________________________________\n",
            "p_re_lu_4 (PReLU)               (None, 10, 10, 128)  12800       batch_normalization_4[0][0]      \n",
            "__________________________________________________________________________________________________\n",
            "conv2d_5 (Conv2D)               (None, 4, 4, 128)    802944      p_re_lu_4[0][0]                  \n",
            "__________________________________________________________________________________________________\n",
            "batch_normalization_5 (BatchNor (None, 4, 4, 128)    512         conv2d_5[0][0]                   \n",
            "__________________________________________________________________________________________________\n",
            "p_re_lu_5 (PReLU)               (None, 4, 4, 128)    2048        batch_normalization_5[0][0]      \n",
            "__________________________________________________________________________________________________\n",
            "flatten (Flatten)               (None, 2048)         0           p_re_lu_5[0][0]                  \n",
            "__________________________________________________________________________________________________\n",
            "dense (Dense)                   (None, 2)            4098        flatten[0][0]                    \n",
            "__________________________________________________________________________________________________\n",
            "input_2 (InputLayer)            [(None, 1)]          0                                            \n",
            "__________________________________________________________________________________________________\n",
            "out1 (PReLU)                    (None, 2)            2           dense[0][0]                      \n",
            "__________________________________________________________________________________________________\n",
            "embedding (Embedding)           (None, 1, 2)         20          input_2[0][0]                    \n",
            "__________________________________________________________________________________________________\n",
            "dense_1 (Dense)                 (None, 10)           30          out1[0][0]                       \n",
            "__________________________________________________________________________________________________\n",
            "lambda (Lambda)                 (None, 1)            0           out1[0][0]                       \n",
            "                                                                 embedding[0][0]                  \n",
            "==================================================================================================\n",
            "Total params: 1,470,614\n",
            "Trainable params: 1,469,718\n",
            "Non-trainable params: 896\n",
            "__________________________________________________________________________________________________\n"
          ],
          "name": "stdout"
        }
      ]
    },
    {
      "cell_type": "code",
      "metadata": {
        "id": "xhcD9owzM2ys",
        "colab_type": "code",
        "colab": {
          "base_uri": "https://localhost:8080/",
          "height": 69
        },
        "outputId": "f1e266fd-6b3f-41ab-9294-518ed973d29d"
      },
      "source": [
        "x_train=x_train.astype(\"float32\")\n",
        "x_test=x_test.astype(\"float32\")\n",
        "x_train/=255.\n",
        "x_test/=255.\n",
        "x_train=np.expand_dims(x_train,axis=-1)\n",
        "x_test=np.expand_dims(x_test,axis=-1)\n",
        "\n",
        "y_train_one_hot=to_categorical(y_train)\n",
        "y_test_one_hot=to_categorical(y_test)\n",
        "\n",
        "print(x_train.shape)\n",
        "print(y_train.shape)\n",
        "print(y_train_one_hot.shape)"
      ],
      "execution_count": 5,
      "outputs": [
        {
          "output_type": "stream",
          "text": [
            "(60000, 28, 28, 1)\n",
            "(60000,)\n",
            "(60000, 10)\n"
          ],
          "name": "stdout"
        }
      ]
    },
    {
      "cell_type": "code",
      "metadata": {
        "id": "LED6gcO1M2zC",
        "colab_type": "code",
        "colab": {
          "base_uri": "https://localhost:8080/",
          "height": 1000
        },
        "outputId": "98bf8ff2-f197-496c-f086-309822868cf3"
      },
      "source": [
        "dummy_matrix1=np.zeros((x_train.shape[0],1))\n",
        "dummy_matrix2=np.zeros((x_test.shape[0],1))\n",
        "\n",
        "model_center_loss.fit(x=[x_train,y_train],y=[y_train_one_hot,dummy_matrix1],\n",
        "                     batch_size=512,epochs=100,verbose=1,validation_data=([x_test,y_test],[y_test_one_hot,dummy_matrix2]),\n",
        "                     callbacks=[EarlyStopping(monitor=\"val_loss\",patience=20)])"
      ],
      "execution_count": 6,
      "outputs": [
        {
          "output_type": "stream",
          "text": [
            "Epoch 1/100\n",
            "118/118 [==============================] - 13s 113ms/step - loss: 2.2934 - dense_1_loss: 2.2674 - lambda_loss: 0.0521 - dense_1_acc: 0.1485 - lambda_acc: 0.9737 - val_loss: 2.3036 - val_dense_1_loss: 2.3022 - val_lambda_loss: 0.0028 - val_dense_1_acc: 0.1135 - val_lambda_acc: 1.0000\n",
            "Epoch 2/100\n",
            "118/118 [==============================] - 13s 113ms/step - loss: 2.2415 - dense_1_loss: 2.1690 - lambda_loss: 0.1451 - dense_1_acc: 0.3169 - lambda_acc: 0.9280 - val_loss: 2.3042 - val_dense_1_loss: 2.3018 - val_lambda_loss: 0.0048 - val_dense_1_acc: 0.1135 - val_lambda_acc: 1.0000\n",
            "Epoch 3/100\n",
            "118/118 [==============================] - 14s 119ms/step - loss: 2.1972 - dense_1_loss: 2.1035 - lambda_loss: 0.1875 - dense_1_acc: 0.3701 - lambda_acc: 0.9043 - val_loss: 2.3682 - val_dense_1_loss: 2.3055 - val_lambda_loss: 0.1255 - val_dense_1_acc: 0.0958 - val_lambda_acc: 1.0000\n",
            "Epoch 4/100\n",
            "118/118 [==============================] - 14s 116ms/step - loss: 2.1522 - dense_1_loss: 2.0463 - lambda_loss: 0.2118 - dense_1_acc: 0.3938 - lambda_acc: 0.8878 - val_loss: 2.4646 - val_dense_1_loss: 2.3009 - val_lambda_loss: 0.3275 - val_dense_1_acc: 0.0958 - val_lambda_acc: 0.8141\n",
            "Epoch 5/100\n",
            "118/118 [==============================] - 13s 112ms/step - loss: 2.1043 - dense_1_loss: 1.9892 - lambda_loss: 0.2301 - dense_1_acc: 0.4060 - lambda_acc: 0.8754 - val_loss: 2.2773 - val_dense_1_loss: 2.1875 - val_lambda_loss: 0.1796 - val_dense_1_acc: 0.2091 - val_lambda_acc: 0.8995\n",
            "Epoch 6/100\n",
            "118/118 [==============================] - 13s 110ms/step - loss: 2.0537 - dense_1_loss: 1.9302 - lambda_loss: 0.2470 - dense_1_acc: 0.4131 - lambda_acc: 0.8597 - val_loss: 2.1149 - val_dense_1_loss: 2.0179 - val_lambda_loss: 0.1941 - val_dense_1_acc: 0.3673 - val_lambda_acc: 0.8765\n",
            "Epoch 7/100\n",
            "118/118 [==============================] - 13s 111ms/step - loss: 2.0013 - dense_1_loss: 1.8712 - lambda_loss: 0.2601 - dense_1_acc: 0.4162 - lambda_acc: 0.8476 - val_loss: 1.9902 - val_dense_1_loss: 1.9048 - val_lambda_loss: 0.1709 - val_dense_1_acc: 0.4163 - val_lambda_acc: 0.9362\n",
            "Epoch 8/100\n",
            "118/118 [==============================] - 13s 113ms/step - loss: 1.9457 - dense_1_loss: 1.8107 - lambda_loss: 0.2701 - dense_1_acc: 0.4214 - lambda_acc: 0.8337 - val_loss: 1.9269 - val_dense_1_loss: 1.7702 - val_lambda_loss: 0.3135 - val_dense_1_acc: 0.4157 - val_lambda_acc: 0.7877\n",
            "Epoch 9/100\n",
            "118/118 [==============================] - 13s 114ms/step - loss: 1.8890 - dense_1_loss: 1.7516 - lambda_loss: 0.2748 - dense_1_acc: 0.4247 - lambda_acc: 0.8307 - val_loss: 1.8882 - val_dense_1_loss: 1.6997 - val_lambda_loss: 0.3770 - val_dense_1_acc: 0.4214 - val_lambda_acc: 0.7497\n",
            "Epoch 10/100\n",
            "118/118 [==============================] - 13s 114ms/step - loss: 1.8338 - dense_1_loss: 1.6950 - lambda_loss: 0.2775 - dense_1_acc: 0.4283 - lambda_acc: 0.8240 - val_loss: 1.8149 - val_dense_1_loss: 1.6836 - val_lambda_loss: 0.2626 - val_dense_1_acc: 0.4210 - val_lambda_acc: 0.8188\n",
            "Epoch 11/100\n",
            "118/118 [==============================] - 13s 113ms/step - loss: 1.7835 - dense_1_loss: 1.6428 - lambda_loss: 0.2814 - dense_1_acc: 0.4307 - lambda_acc: 0.8148 - val_loss: 1.8223 - val_dense_1_loss: 1.6139 - val_lambda_loss: 0.4167 - val_dense_1_acc: 0.4091 - val_lambda_acc: 0.6811\n",
            "Epoch 12/100\n",
            "118/118 [==============================] - 13s 112ms/step - loss: 1.7234 - dense_1_loss: 1.5879 - lambda_loss: 0.2710 - dense_1_acc: 0.4372 - lambda_acc: 0.8307 - val_loss: 1.7147 - val_dense_1_loss: 1.5751 - val_lambda_loss: 0.2793 - val_dense_1_acc: 0.4335 - val_lambda_acc: 0.8284\n",
            "Epoch 13/100\n",
            "118/118 [==============================] - 13s 112ms/step - loss: 1.6774 - dense_1_loss: 1.5419 - lambda_loss: 0.2710 - dense_1_acc: 0.4432 - lambda_acc: 0.8284 - val_loss: 1.6776 - val_dense_1_loss: 1.5298 - val_lambda_loss: 0.2957 - val_dense_1_acc: 0.4254 - val_lambda_acc: 0.7869\n",
            "Epoch 14/100\n",
            "118/118 [==============================] - 13s 112ms/step - loss: 1.6233 - dense_1_loss: 1.4937 - lambda_loss: 0.2591 - dense_1_acc: 0.4563 - lambda_acc: 0.8425 - val_loss: 1.6109 - val_dense_1_loss: 1.4859 - val_lambda_loss: 0.2500 - val_dense_1_acc: 0.4695 - val_lambda_acc: 0.8506\n",
            "Epoch 15/100\n",
            "118/118 [==============================] - 13s 113ms/step - loss: 1.5806 - dense_1_loss: 1.4530 - lambda_loss: 0.2552 - dense_1_acc: 0.4659 - lambda_acc: 0.8499 - val_loss: 1.5772 - val_dense_1_loss: 1.4411 - val_lambda_loss: 0.2723 - val_dense_1_acc: 0.4621 - val_lambda_acc: 0.8586\n",
            "Epoch 16/100\n",
            "118/118 [==============================] - 13s 113ms/step - loss: 1.5344 - dense_1_loss: 1.4112 - lambda_loss: 0.2465 - dense_1_acc: 0.4839 - lambda_acc: 0.8596 - val_loss: 1.5639 - val_dense_1_loss: 1.3942 - val_lambda_loss: 0.3394 - val_dense_1_acc: 0.4349 - val_lambda_acc: 0.7306\n",
            "Epoch 17/100\n",
            "118/118 [==============================] - 13s 113ms/step - loss: 1.4913 - dense_1_loss: 1.3724 - lambda_loss: 0.2377 - dense_1_acc: 0.4987 - lambda_acc: 0.8697 - val_loss: 1.5336 - val_dense_1_loss: 1.3849 - val_lambda_loss: 0.2973 - val_dense_1_acc: 0.4838 - val_lambda_acc: 0.7841\n",
            "Epoch 18/100\n",
            "118/118 [==============================] - 13s 112ms/step - loss: 1.4556 - dense_1_loss: 1.3381 - lambda_loss: 0.2350 - dense_1_acc: 0.5185 - lambda_acc: 0.8694 - val_loss: 1.5154 - val_dense_1_loss: 1.3207 - val_lambda_loss: 0.3892 - val_dense_1_acc: 0.5209 - val_lambda_acc: 0.7139\n",
            "Epoch 19/100\n",
            "118/118 [==============================] - 13s 112ms/step - loss: 1.4152 - dense_1_loss: 1.3022 - lambda_loss: 0.2261 - dense_1_acc: 0.5465 - lambda_acc: 0.8827 - val_loss: 1.4371 - val_dense_1_loss: 1.3369 - val_lambda_loss: 0.2003 - val_dense_1_acc: 0.5133 - val_lambda_acc: 0.9258\n",
            "Epoch 20/100\n",
            "118/118 [==============================] - 13s 112ms/step - loss: 1.3804 - dense_1_loss: 1.2720 - lambda_loss: 0.2168 - dense_1_acc: 0.5507 - lambda_acc: 0.8874 - val_loss: 1.3837 - val_dense_1_loss: 1.2751 - val_lambda_loss: 0.2172 - val_dense_1_acc: 0.5837 - val_lambda_acc: 0.8623\n",
            "Epoch 21/100\n",
            "118/118 [==============================] - 13s 112ms/step - loss: 1.3415 - dense_1_loss: 1.2373 - lambda_loss: 0.2085 - dense_1_acc: 0.5885 - lambda_acc: 0.8990 - val_loss: 1.3825 - val_dense_1_loss: 1.2630 - val_lambda_loss: 0.2390 - val_dense_1_acc: 0.5426 - val_lambda_acc: 0.8431\n",
            "Epoch 22/100\n",
            "118/118 [==============================] - 13s 112ms/step - loss: 1.3124 - dense_1_loss: 1.2088 - lambda_loss: 0.2072 - dense_1_acc: 0.6027 - lambda_acc: 0.9061 - val_loss: 1.4239 - val_dense_1_loss: 1.2878 - val_lambda_loss: 0.2722 - val_dense_1_acc: 0.4833 - val_lambda_acc: 0.8344\n",
            "Epoch 23/100\n",
            "118/118 [==============================] - 13s 112ms/step - loss: 1.2759 - dense_1_loss: 1.1776 - lambda_loss: 0.1966 - dense_1_acc: 0.6325 - lambda_acc: 0.9115 - val_loss: 1.3352 - val_dense_1_loss: 1.1895 - val_lambda_loss: 0.2913 - val_dense_1_acc: 0.6209 - val_lambda_acc: 0.8302\n",
            "Epoch 24/100\n",
            "118/118 [==============================] - 13s 112ms/step - loss: 1.2453 - dense_1_loss: 1.1494 - lambda_loss: 0.1918 - dense_1_acc: 0.6504 - lambda_acc: 0.9215 - val_loss: 1.2571 - val_dense_1_loss: 1.1509 - val_lambda_loss: 0.2125 - val_dense_1_acc: 0.6546 - val_lambda_acc: 0.8670\n",
            "Epoch 25/100\n",
            "118/118 [==============================] - 13s 112ms/step - loss: 1.2138 - dense_1_loss: 1.1215 - lambda_loss: 0.1845 - dense_1_acc: 0.6648 - lambda_acc: 0.9276 - val_loss: 1.2651 - val_dense_1_loss: 1.1878 - val_lambda_loss: 0.1546 - val_dense_1_acc: 0.7398 - val_lambda_acc: 0.9450\n",
            "Epoch 26/100\n",
            "118/118 [==============================] - 13s 112ms/step - loss: 1.1872 - dense_1_loss: 1.0968 - lambda_loss: 0.1808 - dense_1_acc: 0.6781 - lambda_acc: 0.9295 - val_loss: 1.2890 - val_dense_1_loss: 1.1115 - val_lambda_loss: 0.3551 - val_dense_1_acc: 0.5897 - val_lambda_acc: 0.7456\n",
            "Epoch 27/100\n",
            "118/118 [==============================] - 13s 112ms/step - loss: 1.1604 - dense_1_loss: 1.0711 - lambda_loss: 0.1786 - dense_1_acc: 0.6931 - lambda_acc: 0.9349 - val_loss: 1.1761 - val_dense_1_loss: 1.0656 - val_lambda_loss: 0.2210 - val_dense_1_acc: 0.6795 - val_lambda_acc: 0.8925\n",
            "Epoch 28/100\n",
            "118/118 [==============================] - 13s 112ms/step - loss: 1.1393 - dense_1_loss: 1.0496 - lambda_loss: 0.1793 - dense_1_acc: 0.7090 - lambda_acc: 0.9306 - val_loss: 1.1707 - val_dense_1_loss: 1.0778 - val_lambda_loss: 0.1859 - val_dense_1_acc: 0.7508 - val_lambda_acc: 0.9306\n",
            "Epoch 29/100\n",
            "118/118 [==============================] - 13s 112ms/step - loss: 1.1100 - dense_1_loss: 1.0244 - lambda_loss: 0.1713 - dense_1_acc: 0.7281 - lambda_acc: 0.9387 - val_loss: 1.1559 - val_dense_1_loss: 1.0228 - val_lambda_loss: 0.2662 - val_dense_1_acc: 0.6886 - val_lambda_acc: 0.8469\n",
            "Epoch 30/100\n",
            "118/118 [==============================] - 13s 112ms/step - loss: 1.0924 - dense_1_loss: 1.0046 - lambda_loss: 0.1755 - dense_1_acc: 0.7459 - lambda_acc: 0.9333 - val_loss: 1.1743 - val_dense_1_loss: 1.0535 - val_lambda_loss: 0.2416 - val_dense_1_acc: 0.7694 - val_lambda_acc: 0.8572\n",
            "Epoch 31/100\n",
            "118/118 [==============================] - 13s 112ms/step - loss: 1.0602 - dense_1_loss: 0.9789 - lambda_loss: 0.1626 - dense_1_acc: 0.7711 - lambda_acc: 0.9487 - val_loss: 1.0988 - val_dense_1_loss: 1.0254 - val_lambda_loss: 0.1468 - val_dense_1_acc: 0.7738 - val_lambda_acc: 0.9565\n",
            "Epoch 32/100\n",
            "118/118 [==============================] - 13s 112ms/step - loss: 1.0346 - dense_1_loss: 0.9556 - lambda_loss: 0.1579 - dense_1_acc: 0.7953 - lambda_acc: 0.9545 - val_loss: 1.1302 - val_dense_1_loss: 1.0138 - val_lambda_loss: 0.2327 - val_dense_1_acc: 0.7260 - val_lambda_acc: 0.8828\n",
            "Epoch 33/100\n",
            "118/118 [==============================] - 13s 112ms/step - loss: 1.0274 - dense_1_loss: 0.9414 - lambda_loss: 0.1720 - dense_1_acc: 0.8106 - lambda_acc: 0.9357 - val_loss: 1.0745 - val_dense_1_loss: 0.9641 - val_lambda_loss: 0.2207 - val_dense_1_acc: 0.7624 - val_lambda_acc: 0.8859\n",
            "Epoch 34/100\n",
            "118/118 [==============================] - 13s 112ms/step - loss: 0.9975 - dense_1_loss: 0.9176 - lambda_loss: 0.1597 - dense_1_acc: 0.8352 - lambda_acc: 0.9481 - val_loss: 1.0328 - val_dense_1_loss: 0.9549 - val_lambda_loss: 0.1559 - val_dense_1_acc: 0.8147 - val_lambda_acc: 0.9469\n",
            "Epoch 35/100\n",
            "118/118 [==============================] - 13s 112ms/step - loss: 0.9789 - dense_1_loss: 0.8981 - lambda_loss: 0.1616 - dense_1_acc: 0.8534 - lambda_acc: 0.9475 - val_loss: 1.0040 - val_dense_1_loss: 0.9299 - val_lambda_loss: 0.1482 - val_dense_1_acc: 0.8786 - val_lambda_acc: 0.9554\n",
            "Epoch 36/100\n",
            "118/118 [==============================] - 13s 112ms/step - loss: 0.9521 - dense_1_loss: 0.8756 - lambda_loss: 0.1529 - dense_1_acc: 0.8731 - lambda_acc: 0.9572 - val_loss: 0.9920 - val_dense_1_loss: 0.9099 - val_lambda_loss: 0.1642 - val_dense_1_acc: 0.8572 - val_lambda_acc: 0.9407\n",
            "Epoch 37/100\n",
            "118/118 [==============================] - 13s 112ms/step - loss: 0.9426 - dense_1_loss: 0.8611 - lambda_loss: 0.1629 - dense_1_acc: 0.8832 - lambda_acc: 0.9456 - val_loss: 0.9712 - val_dense_1_loss: 0.8845 - val_lambda_loss: 0.1734 - val_dense_1_acc: 0.9212 - val_lambda_acc: 0.9461\n",
            "Epoch 38/100\n",
            "118/118 [==============================] - 13s 112ms/step - loss: 0.9076 - dense_1_loss: 0.8349 - lambda_loss: 0.1455 - dense_1_acc: 0.9047 - lambda_acc: 0.9629 - val_loss: 0.9812 - val_dense_1_loss: 0.8790 - val_lambda_loss: 0.2045 - val_dense_1_acc: 0.8936 - val_lambda_acc: 0.9277\n",
            "Epoch 39/100\n",
            "118/118 [==============================] - 13s 112ms/step - loss: 0.8924 - dense_1_loss: 0.8173 - lambda_loss: 0.1503 - dense_1_acc: 0.9182 - lambda_acc: 0.9567 - val_loss: 0.9533 - val_dense_1_loss: 0.8740 - val_lambda_loss: 0.1585 - val_dense_1_acc: 0.8804 - val_lambda_acc: 0.9456\n",
            "Epoch 40/100\n",
            "118/118 [==============================] - 13s 112ms/step - loss: 0.8788 - dense_1_loss: 0.8018 - lambda_loss: 0.1540 - dense_1_acc: 0.9194 - lambda_acc: 0.9534 - val_loss: 0.9526 - val_dense_1_loss: 0.8193 - val_lambda_loss: 0.2665 - val_dense_1_acc: 0.8864 - val_lambda_acc: 0.8559\n",
            "Epoch 41/100\n",
            "118/118 [==============================] - 13s 112ms/step - loss: 0.8582 - dense_1_loss: 0.7824 - lambda_loss: 0.1515 - dense_1_acc: 0.9266 - lambda_acc: 0.9574 - val_loss: 1.0328 - val_dense_1_loss: 0.8434 - val_lambda_loss: 0.3787 - val_dense_1_acc: 0.8315 - val_lambda_acc: 0.7795\n",
            "Epoch 42/100\n",
            "118/118 [==============================] - 13s 113ms/step - loss: 0.8385 - dense_1_loss: 0.7641 - lambda_loss: 0.1489 - dense_1_acc: 0.9396 - lambda_acc: 0.9601 - val_loss: 0.9197 - val_dense_1_loss: 0.7715 - val_lambda_loss: 0.2964 - val_dense_1_acc: 0.8720 - val_lambda_acc: 0.8231\n",
            "Epoch 43/100\n",
            "118/118 [==============================] - 13s 113ms/step - loss: 0.8261 - dense_1_loss: 0.7480 - lambda_loss: 0.1561 - dense_1_acc: 0.9410 - lambda_acc: 0.9516 - val_loss: 0.8583 - val_dense_1_loss: 0.7535 - val_lambda_loss: 0.2096 - val_dense_1_acc: 0.9436 - val_lambda_acc: 0.9299\n",
            "Epoch 44/100\n",
            "118/118 [==============================] - 13s 113ms/step - loss: 0.8011 - dense_1_loss: 0.7277 - lambda_loss: 0.1466 - dense_1_acc: 0.9493 - lambda_acc: 0.9597 - val_loss: 0.8439 - val_dense_1_loss: 0.7537 - val_lambda_loss: 0.1803 - val_dense_1_acc: 0.8942 - val_lambda_acc: 0.9376\n",
            "Epoch 45/100\n",
            "118/118 [==============================] - 13s 112ms/step - loss: 0.7847 - dense_1_loss: 0.7114 - lambda_loss: 0.1466 - dense_1_acc: 0.9557 - lambda_acc: 0.9604 - val_loss: 0.8408 - val_dense_1_loss: 0.7505 - val_lambda_loss: 0.1806 - val_dense_1_acc: 0.9115 - val_lambda_acc: 0.9286\n",
            "Epoch 46/100\n",
            "118/118 [==============================] - 13s 112ms/step - loss: 0.7632 - dense_1_loss: 0.6929 - lambda_loss: 0.1407 - dense_1_acc: 0.9582 - lambda_acc: 0.9639 - val_loss: 0.8653 - val_dense_1_loss: 0.7387 - val_lambda_loss: 0.2532 - val_dense_1_acc: 0.8823 - val_lambda_acc: 0.8814\n",
            "Epoch 47/100\n",
            "118/118 [==============================] - 13s 112ms/step - loss: 0.7493 - dense_1_loss: 0.6768 - lambda_loss: 0.1450 - dense_1_acc: 0.9643 - lambda_acc: 0.9616 - val_loss: 0.8947 - val_dense_1_loss: 0.7595 - val_lambda_loss: 0.2705 - val_dense_1_acc: 0.9340 - val_lambda_acc: 0.8183\n",
            "Epoch 48/100\n",
            "118/118 [==============================] - 13s 112ms/step - loss: 0.7407 - dense_1_loss: 0.6651 - lambda_loss: 0.1513 - dense_1_acc: 0.9640 - lambda_acc: 0.9549 - val_loss: 0.8164 - val_dense_1_loss: 0.7011 - val_lambda_loss: 0.2305 - val_dense_1_acc: 0.9065 - val_lambda_acc: 0.9119\n",
            "Epoch 49/100\n",
            "118/118 [==============================] - 13s 112ms/step - loss: 0.7214 - dense_1_loss: 0.6481 - lambda_loss: 0.1467 - dense_1_acc: 0.9688 - lambda_acc: 0.9570 - val_loss: 0.7812 - val_dense_1_loss: 0.6978 - val_lambda_loss: 0.1668 - val_dense_1_acc: 0.9476 - val_lambda_acc: 0.9426\n",
            "Epoch 50/100\n",
            "118/118 [==============================] - 13s 112ms/step - loss: 0.6952 - dense_1_loss: 0.6292 - lambda_loss: 0.1320 - dense_1_acc: 0.9740 - lambda_acc: 0.9697 - val_loss: 0.7603 - val_dense_1_loss: 0.6690 - val_lambda_loss: 0.1827 - val_dense_1_acc: 0.9494 - val_lambda_acc: 0.9403\n",
            "Epoch 51/100\n",
            "118/118 [==============================] - 13s 112ms/step - loss: 0.6780 - dense_1_loss: 0.6131 - lambda_loss: 0.1297 - dense_1_acc: 0.9769 - lambda_acc: 0.9707 - val_loss: 0.8174 - val_dense_1_loss: 0.6566 - val_lambda_loss: 0.3217 - val_dense_1_acc: 0.9442 - val_lambda_acc: 0.8408\n",
            "Epoch 52/100\n",
            "118/118 [==============================] - 13s 112ms/step - loss: 0.6732 - dense_1_loss: 0.6030 - lambda_loss: 0.1403 - dense_1_acc: 0.9737 - lambda_acc: 0.9603 - val_loss: 0.7487 - val_dense_1_loss: 0.6652 - val_lambda_loss: 0.1669 - val_dense_1_acc: 0.9606 - val_lambda_acc: 0.9468\n",
            "Epoch 53/100\n",
            "118/118 [==============================] - 13s 112ms/step - loss: 0.6580 - dense_1_loss: 0.5897 - lambda_loss: 0.1366 - dense_1_acc: 0.9775 - lambda_acc: 0.9643 - val_loss: 0.7103 - val_dense_1_loss: 0.6164 - val_lambda_loss: 0.1877 - val_dense_1_acc: 0.9556 - val_lambda_acc: 0.9199\n",
            "Epoch 54/100\n",
            "118/118 [==============================] - 13s 113ms/step - loss: 0.6458 - dense_1_loss: 0.5771 - lambda_loss: 0.1375 - dense_1_acc: 0.9788 - lambda_acc: 0.9637 - val_loss: 0.7184 - val_dense_1_loss: 0.6166 - val_lambda_loss: 0.2035 - val_dense_1_acc: 0.9597 - val_lambda_acc: 0.9128\n",
            "Epoch 55/100\n",
            "118/118 [==============================] - 13s 113ms/step - loss: 0.6229 - dense_1_loss: 0.5601 - lambda_loss: 0.1257 - dense_1_acc: 0.9833 - lambda_acc: 0.9724 - val_loss: 0.7040 - val_dense_1_loss: 0.6160 - val_lambda_loss: 0.1761 - val_dense_1_acc: 0.9618 - val_lambda_acc: 0.9392\n",
            "Epoch 56/100\n",
            "118/118 [==============================] - 13s 113ms/step - loss: 0.6196 - dense_1_loss: 0.5519 - lambda_loss: 0.1355 - dense_1_acc: 0.9813 - lambda_acc: 0.9620 - val_loss: 0.8309 - val_dense_1_loss: 0.6468 - val_lambda_loss: 0.3682 - val_dense_1_acc: 0.9269 - val_lambda_acc: 0.8098\n",
            "Epoch 57/100\n",
            "118/118 [==============================] - 13s 113ms/step - loss: 0.6108 - dense_1_loss: 0.5423 - lambda_loss: 0.1370 - dense_1_acc: 0.9810 - lambda_acc: 0.9605 - val_loss: 0.6424 - val_dense_1_loss: 0.5610 - val_lambda_loss: 0.1630 - val_dense_1_acc: 0.9680 - val_lambda_acc: 0.9538\n",
            "Epoch 58/100\n",
            "118/118 [==============================] - 13s 113ms/step - loss: 0.5849 - dense_1_loss: 0.5246 - lambda_loss: 0.1206 - dense_1_acc: 0.9862 - lambda_acc: 0.9738 - val_loss: 0.6893 - val_dense_1_loss: 0.5706 - val_lambda_loss: 0.2374 - val_dense_1_acc: 0.9557 - val_lambda_acc: 0.8916\n",
            "Epoch 59/100\n",
            "118/118 [==============================] - 13s 113ms/step - loss: 0.5841 - dense_1_loss: 0.5180 - lambda_loss: 0.1322 - dense_1_acc: 0.9851 - lambda_acc: 0.9639 - val_loss: 0.6607 - val_dense_1_loss: 0.5740 - val_lambda_loss: 0.1734 - val_dense_1_acc: 0.9563 - val_lambda_acc: 0.9430\n",
            "Epoch 60/100\n",
            "118/118 [==============================] - 13s 113ms/step - loss: 0.5596 - dense_1_loss: 0.5022 - lambda_loss: 0.1148 - dense_1_acc: 0.9873 - lambda_acc: 0.9748 - val_loss: 0.6214 - val_dense_1_loss: 0.5288 - val_lambda_loss: 0.1852 - val_dense_1_acc: 0.9711 - val_lambda_acc: 0.9439\n",
            "Epoch 61/100\n",
            "118/118 [==============================] - 13s 113ms/step - loss: 0.5581 - dense_1_loss: 0.4949 - lambda_loss: 0.1264 - dense_1_acc: 0.9876 - lambda_acc: 0.9688 - val_loss: 0.6619 - val_dense_1_loss: 0.5541 - val_lambda_loss: 0.2156 - val_dense_1_acc: 0.9665 - val_lambda_acc: 0.9198\n",
            "Epoch 62/100\n",
            "118/118 [==============================] - 13s 113ms/step - loss: 0.5385 - dense_1_loss: 0.4814 - lambda_loss: 0.1142 - dense_1_acc: 0.9892 - lambda_acc: 0.9764 - val_loss: 0.6521 - val_dense_1_loss: 0.5514 - val_lambda_loss: 0.2015 - val_dense_1_acc: 0.9647 - val_lambda_acc: 0.9208\n",
            "Epoch 63/100\n",
            "118/118 [==============================] - 13s 113ms/step - loss: 0.5386 - dense_1_loss: 0.4765 - lambda_loss: 0.1243 - dense_1_acc: 0.9879 - lambda_acc: 0.9690 - val_loss: 0.7666 - val_dense_1_loss: 0.5365 - val_lambda_loss: 0.4601 - val_dense_1_acc: 0.9331 - val_lambda_acc: 0.7046\n",
            "Epoch 64/100\n",
            "118/118 [==============================] - 13s 112ms/step - loss: 0.5239 - dense_1_loss: 0.4645 - lambda_loss: 0.1187 - dense_1_acc: 0.9895 - lambda_acc: 0.9709 - val_loss: 0.6514 - val_dense_1_loss: 0.5211 - val_lambda_loss: 0.2606 - val_dense_1_acc: 0.9570 - val_lambda_acc: 0.8945\n",
            "Epoch 65/100\n",
            "118/118 [==============================] - 13s 112ms/step - loss: 0.5203 - dense_1_loss: 0.4575 - lambda_loss: 0.1256 - dense_1_acc: 0.9892 - lambda_acc: 0.9665 - val_loss: 0.6681 - val_dense_1_loss: 0.5317 - val_lambda_loss: 0.2729 - val_dense_1_acc: 0.9465 - val_lambda_acc: 0.8653\n",
            "Epoch 66/100\n",
            "118/118 [==============================] - 13s 113ms/step - loss: 0.5002 - dense_1_loss: 0.4447 - lambda_loss: 0.1110 - dense_1_acc: 0.9909 - lambda_acc: 0.9748 - val_loss: 0.5608 - val_dense_1_loss: 0.4703 - val_lambda_loss: 0.1811 - val_dense_1_acc: 0.9734 - val_lambda_acc: 0.9304\n",
            "Epoch 67/100\n",
            "118/118 [==============================] - 13s 112ms/step - loss: 0.4975 - dense_1_loss: 0.4379 - lambda_loss: 0.1191 - dense_1_acc: 0.9915 - lambda_acc: 0.9679 - val_loss: 0.6042 - val_dense_1_loss: 0.4885 - val_lambda_loss: 0.2315 - val_dense_1_acc: 0.9544 - val_lambda_acc: 0.9147\n",
            "Epoch 68/100\n",
            "118/118 [==============================] - 13s 112ms/step - loss: 0.4841 - dense_1_loss: 0.4282 - lambda_loss: 0.1118 - dense_1_acc: 0.9922 - lambda_acc: 0.9746 - val_loss: 0.7658 - val_dense_1_loss: 0.5577 - val_lambda_loss: 0.4162 - val_dense_1_acc: 0.9256 - val_lambda_acc: 0.7828\n",
            "Epoch 69/100\n",
            "118/118 [==============================] - 13s 112ms/step - loss: 0.4768 - dense_1_loss: 0.4204 - lambda_loss: 0.1128 - dense_1_acc: 0.9918 - lambda_acc: 0.9734 - val_loss: 0.5698 - val_dense_1_loss: 0.4722 - val_lambda_loss: 0.1951 - val_dense_1_acc: 0.9736 - val_lambda_acc: 0.9204\n",
            "Epoch 70/100\n",
            "118/118 [==============================] - 13s 112ms/step - loss: 0.4604 - dense_1_loss: 0.4090 - lambda_loss: 0.1028 - dense_1_acc: 0.9932 - lambda_acc: 0.9784 - val_loss: 0.5503 - val_dense_1_loss: 0.4567 - val_lambda_loss: 0.1870 - val_dense_1_acc: 0.9701 - val_lambda_acc: 0.9297\n",
            "Epoch 71/100\n",
            "118/118 [==============================] - 13s 112ms/step - loss: 0.4576 - dense_1_loss: 0.4029 - lambda_loss: 0.1094 - dense_1_acc: 0.9936 - lambda_acc: 0.9752 - val_loss: 0.5644 - val_dense_1_loss: 0.4536 - val_lambda_loss: 0.2217 - val_dense_1_acc: 0.9663 - val_lambda_acc: 0.9109\n",
            "Epoch 72/100\n",
            "118/118 [==============================] - 13s 112ms/step - loss: 0.4503 - dense_1_loss: 0.3957 - lambda_loss: 0.1092 - dense_1_acc: 0.9938 - lambda_acc: 0.9773 - val_loss: 0.6142 - val_dense_1_loss: 0.5049 - val_lambda_loss: 0.2186 - val_dense_1_acc: 0.9595 - val_lambda_acc: 0.9195\n",
            "Epoch 73/100\n",
            "118/118 [==============================] - 13s 112ms/step - loss: 0.4452 - dense_1_loss: 0.3893 - lambda_loss: 0.1116 - dense_1_acc: 0.9937 - lambda_acc: 0.9725 - val_loss: 0.7176 - val_dense_1_loss: 0.5195 - val_lambda_loss: 0.3962 - val_dense_1_acc: 0.8942 - val_lambda_acc: 0.7784\n",
            "Epoch 74/100\n",
            "118/118 [==============================] - 13s 112ms/step - loss: 0.4384 - dense_1_loss: 0.3819 - lambda_loss: 0.1130 - dense_1_acc: 0.9932 - lambda_acc: 0.9716 - val_loss: 0.7839 - val_dense_1_loss: 0.5605 - val_lambda_loss: 0.4468 - val_dense_1_acc: 0.9339 - val_lambda_acc: 0.7506\n",
            "Epoch 75/100\n",
            "118/118 [==============================] - 13s 112ms/step - loss: 0.4272 - dense_1_loss: 0.3738 - lambda_loss: 0.1067 - dense_1_acc: 0.9940 - lambda_acc: 0.9754 - val_loss: 0.5334 - val_dense_1_loss: 0.4249 - val_lambda_loss: 0.2170 - val_dense_1_acc: 0.9741 - val_lambda_acc: 0.9263\n",
            "Epoch 76/100\n",
            "118/118 [==============================] - 13s 112ms/step - loss: 0.4086 - dense_1_loss: 0.3619 - lambda_loss: 0.0933 - dense_1_acc: 0.9955 - lambda_acc: 0.9834 - val_loss: 0.5074 - val_dense_1_loss: 0.4189 - val_lambda_loss: 0.1771 - val_dense_1_acc: 0.9763 - val_lambda_acc: 0.9399\n",
            "Epoch 77/100\n",
            "118/118 [==============================] - 13s 112ms/step - loss: 0.4078 - dense_1_loss: 0.3572 - lambda_loss: 0.1013 - dense_1_acc: 0.9955 - lambda_acc: 0.9807 - val_loss: 0.5210 - val_dense_1_loss: 0.4197 - val_lambda_loss: 0.2025 - val_dense_1_acc: 0.9747 - val_lambda_acc: 0.9370\n",
            "Epoch 78/100\n",
            "118/118 [==============================] - 13s 112ms/step - loss: 0.4063 - dense_1_loss: 0.3526 - lambda_loss: 0.1074 - dense_1_acc: 0.9953 - lambda_acc: 0.9768 - val_loss: 0.6423 - val_dense_1_loss: 0.4555 - val_lambda_loss: 0.3736 - val_dense_1_acc: 0.9414 - val_lambda_acc: 0.7904\n",
            "Epoch 79/100\n",
            "118/118 [==============================] - 13s 112ms/step - loss: 0.4044 - dense_1_loss: 0.3483 - lambda_loss: 0.1123 - dense_1_acc: 0.9936 - lambda_acc: 0.9732 - val_loss: 0.5595 - val_dense_1_loss: 0.4238 - val_lambda_loss: 0.2715 - val_dense_1_acc: 0.9687 - val_lambda_acc: 0.8565\n",
            "Epoch 80/100\n",
            "118/118 [==============================] - 13s 112ms/step - loss: 0.3888 - dense_1_loss: 0.3379 - lambda_loss: 0.1019 - dense_1_acc: 0.9954 - lambda_acc: 0.9786 - val_loss: 0.6018 - val_dense_1_loss: 0.4545 - val_lambda_loss: 0.2947 - val_dense_1_acc: 0.9548 - val_lambda_acc: 0.8748\n",
            "Epoch 81/100\n",
            "118/118 [==============================] - 13s 112ms/step - loss: 0.3756 - dense_1_loss: 0.3288 - lambda_loss: 0.0935 - dense_1_acc: 0.9958 - lambda_acc: 0.9803 - val_loss: 0.5267 - val_dense_1_loss: 0.3781 - val_lambda_loss: 0.2971 - val_dense_1_acc: 0.9696 - val_lambda_acc: 0.8511\n",
            "Epoch 82/100\n",
            "118/118 [==============================] - 13s 112ms/step - loss: 0.3723 - dense_1_loss: 0.3234 - lambda_loss: 0.0978 - dense_1_acc: 0.9960 - lambda_acc: 0.9792 - val_loss: 0.5280 - val_dense_1_loss: 0.4034 - val_lambda_loss: 0.2492 - val_dense_1_acc: 0.9686 - val_lambda_acc: 0.9169\n",
            "Epoch 83/100\n",
            "118/118 [==============================] - 13s 112ms/step - loss: 0.3764 - dense_1_loss: 0.3212 - lambda_loss: 0.1103 - dense_1_acc: 0.9958 - lambda_acc: 0.9728 - val_loss: 0.4900 - val_dense_1_loss: 0.3599 - val_lambda_loss: 0.2603 - val_dense_1_acc: 0.9745 - val_lambda_acc: 0.8555\n",
            "Epoch 84/100\n",
            "118/118 [==============================] - 13s 112ms/step - loss: 0.3664 - dense_1_loss: 0.3140 - lambda_loss: 0.1048 - dense_1_acc: 0.9960 - lambda_acc: 0.9756 - val_loss: 0.4960 - val_dense_1_loss: 0.3941 - val_lambda_loss: 0.2038 - val_dense_1_acc: 0.9724 - val_lambda_acc: 0.9285\n",
            "Epoch 85/100\n",
            "118/118 [==============================] - 13s 112ms/step - loss: 0.3572 - dense_1_loss: 0.3074 - lambda_loss: 0.0996 - dense_1_acc: 0.9963 - lambda_acc: 0.9807 - val_loss: 0.5132 - val_dense_1_loss: 0.3726 - val_lambda_loss: 0.2813 - val_dense_1_acc: 0.9690 - val_lambda_acc: 0.8677\n",
            "Epoch 86/100\n",
            "118/118 [==============================] - 13s 112ms/step - loss: 0.3527 - dense_1_loss: 0.3015 - lambda_loss: 0.1023 - dense_1_acc: 0.9964 - lambda_acc: 0.9751 - val_loss: 0.4379 - val_dense_1_loss: 0.3526 - val_lambda_loss: 0.1706 - val_dense_1_acc: 0.9793 - val_lambda_acc: 0.9458\n",
            "Epoch 87/100\n",
            "118/118 [==============================] - 13s 113ms/step - loss: 0.3442 - dense_1_loss: 0.2949 - lambda_loss: 0.0986 - dense_1_acc: 0.9969 - lambda_acc: 0.9809 - val_loss: 0.4820 - val_dense_1_loss: 0.3547 - val_lambda_loss: 0.2546 - val_dense_1_acc: 0.9767 - val_lambda_acc: 0.8525\n",
            "Epoch 88/100\n",
            "118/118 [==============================] - 13s 112ms/step - loss: 0.3407 - dense_1_loss: 0.2900 - lambda_loss: 0.1015 - dense_1_acc: 0.9969 - lambda_acc: 0.9761 - val_loss: 0.4532 - val_dense_1_loss: 0.3415 - val_lambda_loss: 0.2233 - val_dense_1_acc: 0.9774 - val_lambda_acc: 0.9284\n",
            "Epoch 89/100\n",
            "118/118 [==============================] - 13s 113ms/step - loss: 0.3312 - dense_1_loss: 0.2830 - lambda_loss: 0.0966 - dense_1_acc: 0.9972 - lambda_acc: 0.9794 - val_loss: 0.4331 - val_dense_1_loss: 0.3398 - val_lambda_loss: 0.1866 - val_dense_1_acc: 0.9788 - val_lambda_acc: 0.9380\n",
            "Epoch 90/100\n",
            "118/118 [==============================] - 13s 112ms/step - loss: 0.3289 - dense_1_loss: 0.2790 - lambda_loss: 0.0999 - dense_1_acc: 0.9969 - lambda_acc: 0.9775 - val_loss: 0.4614 - val_dense_1_loss: 0.3443 - val_lambda_loss: 0.2341 - val_dense_1_acc: 0.9783 - val_lambda_acc: 0.8905\n",
            "Epoch 91/100\n",
            "118/118 [==============================] - 13s 113ms/step - loss: 0.3235 - dense_1_loss: 0.2736 - lambda_loss: 0.0999 - dense_1_acc: 0.9972 - lambda_acc: 0.9781 - val_loss: 0.4615 - val_dense_1_loss: 0.3431 - val_lambda_loss: 0.2369 - val_dense_1_acc: 0.9712 - val_lambda_acc: 0.9160\n",
            "Epoch 92/100\n",
            "118/118 [==============================] - 13s 113ms/step - loss: 0.3222 - dense_1_loss: 0.2701 - lambda_loss: 0.1044 - dense_1_acc: 0.9970 - lambda_acc: 0.9732 - val_loss: 0.4457 - val_dense_1_loss: 0.3274 - val_lambda_loss: 0.2364 - val_dense_1_acc: 0.9788 - val_lambda_acc: 0.9151\n",
            "Epoch 93/100\n",
            "118/118 [==============================] - 13s 113ms/step - loss: 0.3076 - dense_1_loss: 0.2619 - lambda_loss: 0.0915 - dense_1_acc: 0.9973 - lambda_acc: 0.9830 - val_loss: 0.4657 - val_dense_1_loss: 0.3282 - val_lambda_loss: 0.2751 - val_dense_1_acc: 0.9713 - val_lambda_acc: 0.8831\n",
            "Epoch 94/100\n",
            "118/118 [==============================] - 13s 113ms/step - loss: 0.3055 - dense_1_loss: 0.2575 - lambda_loss: 0.0961 - dense_1_acc: 0.9974 - lambda_acc: 0.9779 - val_loss: 0.6459 - val_dense_1_loss: 0.4210 - val_lambda_loss: 0.4498 - val_dense_1_acc: 0.9217 - val_lambda_acc: 0.8185\n",
            "Epoch 95/100\n",
            "118/118 [==============================] - 13s 113ms/step - loss: 0.2967 - dense_1_loss: 0.2513 - lambda_loss: 0.0908 - dense_1_acc: 0.9976 - lambda_acc: 0.9821 - val_loss: 0.4391 - val_dense_1_loss: 0.3198 - val_lambda_loss: 0.2386 - val_dense_1_acc: 0.9758 - val_lambda_acc: 0.8978\n",
            "Epoch 96/100\n",
            "118/118 [==============================] - 13s 113ms/step - loss: 0.3004 - dense_1_loss: 0.2499 - lambda_loss: 0.1009 - dense_1_acc: 0.9975 - lambda_acc: 0.9778 - val_loss: 0.5211 - val_dense_1_loss: 0.3203 - val_lambda_loss: 0.4016 - val_dense_1_acc: 0.9731 - val_lambda_acc: 0.8180\n",
            "Epoch 97/100\n",
            "118/118 [==============================] - 13s 113ms/step - loss: 0.2910 - dense_1_loss: 0.2435 - lambda_loss: 0.0949 - dense_1_acc: 0.9977 - lambda_acc: 0.9785 - val_loss: 0.4850 - val_dense_1_loss: 0.3098 - val_lambda_loss: 0.3503 - val_dense_1_acc: 0.9663 - val_lambda_acc: 0.8063\n",
            "Epoch 98/100\n",
            "118/118 [==============================] - 13s 113ms/step - loss: 0.2840 - dense_1_loss: 0.2383 - lambda_loss: 0.0913 - dense_1_acc: 0.9976 - lambda_acc: 0.9809 - val_loss: 0.4247 - val_dense_1_loss: 0.3133 - val_lambda_loss: 0.2227 - val_dense_1_acc: 0.9732 - val_lambda_acc: 0.9224\n",
            "Epoch 99/100\n",
            "118/118 [==============================] - 13s 113ms/step - loss: 0.2770 - dense_1_loss: 0.2331 - lambda_loss: 0.0878 - dense_1_acc: 0.9978 - lambda_acc: 0.9828 - val_loss: 0.4760 - val_dense_1_loss: 0.3312 - val_lambda_loss: 0.2895 - val_dense_1_acc: 0.9757 - val_lambda_acc: 0.8993\n",
            "Epoch 100/100\n",
            "118/118 [==============================] - 13s 113ms/step - loss: 0.2732 - dense_1_loss: 0.2290 - lambda_loss: 0.0884 - dense_1_acc: 0.9980 - lambda_acc: 0.9829 - val_loss: 0.4499 - val_dense_1_loss: 0.2853 - val_lambda_loss: 0.3292 - val_dense_1_acc: 0.9753 - val_lambda_acc: 0.8472\n"
          ],
          "name": "stdout"
        },
        {
          "output_type": "execute_result",
          "data": {
            "text/plain": [
              "<tensorflow.python.keras.callbacks.History at 0x7f3880105588>"
            ]
          },
          "metadata": {
            "tags": []
          },
          "execution_count": 6
        }
      ]
    },
    {
      "cell_type": "code",
      "metadata": {
        "id": "rQAmb6rZM2zV",
        "colab_type": "code",
        "colab": {
          "base_uri": "https://localhost:8080/",
          "height": 52
        },
        "outputId": "a4c1194a-708b-422a-de0e-38b95790b15e"
      },
      "source": [
        "func=K.function([model.input],[model.get_layer('out1').output])\n",
        "test_features= func([x_test])[0]\n",
        "print(test_features.shape)\n",
        "\n",
        "test_centers=np.dot(np.transpose(y_test_one_hot),test_features)\n",
        "test_centers_count=np.sum(np.transpose(y_test_one_hot),axis=1,keepdims=True)\n",
        "test_centers/=test_centers_count\n",
        "print(test_centers.shape)"
      ],
      "execution_count": 7,
      "outputs": [
        {
          "output_type": "stream",
          "text": [
            "(10000, 2)\n",
            "(10, 2)\n"
          ],
          "name": "stdout"
        }
      ]
    },
    {
      "cell_type": "code",
      "metadata": {
        "id": "TVhgUHudM2zj",
        "colab_type": "code",
        "colab": {
          "base_uri": "https://localhost:8080/",
          "height": 265
        },
        "outputId": "8a89247b-dd1a-4e84-94b0-6d4daeb60f2e"
      },
      "source": [
        "from matplotlib import pyplot as plt\n",
        "%matplotlib inline\n",
        "plt.scatter(test_features[:,0],test_features[:,1],c=y_test,edgecolor=\"none\",s=5)\n",
        "plt.scatter(test_centers[:,0],test_centers[:,1],c=\"black\",marker=\"*\",edgecolor=\"none\",s=50)\n",
        "plt.show()"
      ],
      "execution_count": 8,
      "outputs": [
        {
          "output_type": "display_data",
          "data": {
            "image/png": "[encoded data removed]",
            "text/plain": [
              "<Figure size 432x288 with 1 Axes>"
            ]
          },
          "metadata": {
            "tags": [],
            "needs_background": "light"
          }
        }
      ]
    },
    {
      "cell_type": "code",
      "metadata": {
        "id": "Tru1pJchM2zx",
        "colab_type": "code",
        "colab": {}
      },
      "source": [
        ""
      ],
      "execution_count": null,
      "outputs": []
    }
  ]
}
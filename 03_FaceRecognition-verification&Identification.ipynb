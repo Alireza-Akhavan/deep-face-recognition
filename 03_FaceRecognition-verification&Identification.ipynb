{
 "cells": [
  {
   "cell_type": "markdown",
   "metadata": {},
   "source": [
    "<center><div style=\"direction:rtl;font-family:B Lotus, B Nazanin, Tahoma\">به نام خدا</div></center>\n",
    "<img src=\"./image/hpart.jpg\" alt=\"hooshpart\" style=\"width: 150px;\"/>\n",
    "<h1><center><div style=\"direction:rtl;font-family:B Lotus, B Nazanin, Tahoma\">تایید و تشخیص چهره </div></center></h1>"
   ]
  },
  {
   "cell_type": "markdown",
   "metadata": {},
   "source": [
    "### <div style=\"direction:rtl;text-align:right;font-family:B Lotus, B Nazanin, Tahoma\">لود کتابخانه‌های مورد استفاده</div>"
   ]
  },
  {
   "cell_type": "code",
   "execution_count": 1,
   "metadata": {
    "collapsed": true
   },
   "outputs": [],
   "source": [
    "import matplotlib.pyplot as plt\n",
    "import numpy as np\n",
    "\n",
    "import FaceToolKit as ftk\n",
    "import DetectionToolKit as dtk"
   ]
  },
  {
   "cell_type": "markdown",
   "metadata": {},
   "source": [
    "### <div style=\"direction:rtl;text-align:right;font-family:B Lotus, B Nazanin, Tahoma\">تنظیم پارامترهای Face Recognition و ایجاد شی </div>"
   ]
  },
  {
   "cell_type": "code",
   "execution_count": 2,
   "metadata": {
    "collapsed": false,
    "scrolled": true
   },
   "outputs": [
    {
     "name": "stdout",
     "output_type": "stream",
     "text": [
      "Model directory: ./models/20180204-160909/\n",
      "Metagraph file: model-20180204-160909.meta\n",
      "Checkpoint file: model-20180204-160909.ckpt-266000\n",
      "WARNING:tensorflow:The saved meta_graph is possibly from an older release:\n",
      "'model_variables' collection should be of type 'byte_list', but instead is of type 'node_list'.\n",
      "INFO:tensorflow:Restoring parameters from ./models/20180204-160909/model-20180204-160909.ckpt-266000\n"
     ]
    }
   ],
   "source": [
    "verification_threshhold = 1.188\n",
    "image_size = 160\n",
    "v = ftk.Verification()\n",
    "# Pre-load model for Verification\n",
    "v.load_model(\"./models/20180204-160909/\")\n",
    "v.initial_input_output_tensors()"
   ]
  },
  {
   "cell_type": "markdown",
   "metadata": {},
   "source": [
    "### <div style=\"direction:rtl;text-align:right;font-family:B Lotus, B Nazanin, Tahoma\">ایجاد شی شناسایی چهره</div>"
   ]
  },
  {
   "cell_type": "code",
   "execution_count": 3,
   "metadata": {
    "collapsed": false
   },
   "outputs": [
    {
     "name": "stdout",
     "output_type": "stream",
     "text": [
      "WARNING:tensorflow:From C:\\Users\\A s u s\\Desktop\\hooshpart_pishrafte\\FaceRecognition-Verification-Detection\\detection\\mtcnn\\detect_face.py:210: calling reduce_max (from tensorflow.python.ops.math_ops) with keep_dims is deprecated and will be removed in a future version.\n",
      "Instructions for updating:\n",
      "keep_dims is deprecated, use keepdims instead\n",
      "WARNING:tensorflow:From C:\\Users\\A s u s\\Desktop\\hooshpart_pishrafte\\FaceRecognition-Verification-Detection\\detection\\mtcnn\\detect_face.py:212: calling reduce_sum (from tensorflow.python.ops.math_ops) with keep_dims is deprecated and will be removed in a future version.\n",
      "Instructions for updating:\n",
      "keep_dims is deprecated, use keepdims instead\n"
     ]
    }
   ],
   "source": [
    "d = dtk.Detection()"
   ]
  },
  {
   "cell_type": "markdown",
   "metadata": {},
   "source": [
    "### <div style=\"direction:rtl;text-align:right;font-family:B Lotus, B Nazanin, Tahoma\">تایید چهره (Face Verification)</div>"
   ]
  },
  {
   "cell_type": "markdown",
   "metadata": {
    "collapsed": true
   },
   "source": [
    "<div style=\"direction:rtl;text-align:right;font-family:Tahoma\">\n",
    "ایجاد یک دیکشنری از افراد معتبر برای سیستم.\n",
    "</div>"
   ]
  },
  {
   "cell_type": "code",
   "execution_count": 4,
   "metadata": {
    "collapsed": true
   },
   "outputs": [],
   "source": [
    "def img_to_encoding(img):\n",
    "    image = plt.imread(img)\n",
    "    aligned = d.align(image, False)[0]\n",
    "    return v.img_to_encoding(aligned, image_size)"
   ]
  },
  {
   "cell_type": "code",
   "execution_count": 9,
   "metadata": {
    "collapsed": false
   },
   "outputs": [],
   "source": [
    "database = {}\n",
    "\n",
    "database[\"alireza\"] = img_to_encoding(\"./images/alireza.jpg\")\n",
    "database[\"ali\"] = img_to_encoding(\"./images/ali.jpg\")\n",
    "database[\"mohsen\"] = img_to_encoding(\"./images/mohsen.jpg\")\n",
    "database[\"muhammad\"] = img_to_encoding(\"./images/muhammad.jpg\")\n"
   ]
  },
  {
   "cell_type": "markdown",
   "metadata": {},
   "source": [
    "### <div style=\"direction:rtl;text-align:right;font-family:B Lotus, B Nazanin, Tahoma\">تابع تایید</div>"
   ]
  },
  {
   "cell_type": "code",
   "execution_count": 11,
   "metadata": {
    "collapsed": true
   },
   "outputs": [],
   "source": [
    "def distance(emb1, emb2):\n",
    "    diff = np.subtract(emb1, emb2)\n",
    "    return np.sum(np.square(diff))\n",
    "\n",
    "def verify(image_path, identity, database):\n",
    "   \n",
    "    \n",
    "    # Step 1: Compute the encoding for the image. Use img_to_encoding()\n",
    "    encoding = img_to_encoding(image_path) \n",
    "    \n",
    "    # Step 2: Compute distance with identity's image\n",
    "    dist = distance(encoding, database[identity])\n",
    "    \n",
    "    # Step 3: Open the door if dist < verification_threshhold, else don't open\n",
    "    if dist < verification_threshhold:\n",
    "        print(\"It's \" + str(identity) + \", welcome!\")\n",
    "    else:\n",
    "        print(\"It's not \" + str(identity) + \", please go away\")\n",
    "        \n",
    "        \n",
    "    return dist"
   ]
  },
  {
   "cell_type": "markdown",
   "metadata": {},
   "source": [
    "### <div style=\"direction:rtl;text-align:right;font-family:B Lotus, B Nazanin, Tahoma\">بررسی تایید چهره</div>"
   ]
  },
  {
   "cell_type": "markdown",
   "metadata": {},
   "source": [
    "<img src='images/1.jpg' style=\"width: 100px;\"><img src='images/alireza.jpg' style=\"width: 100px;\">"
   ]
  },
  {
   "cell_type": "code",
   "execution_count": 12,
   "metadata": {
    "collapsed": false
   },
   "outputs": [
    {
     "name": "stdout",
     "output_type": "stream",
     "text": [
      "It's alireza, welcome!\n"
     ]
    },
    {
     "data": {
      "text/plain": [
       "0.5931984195518708"
      ]
     },
     "execution_count": 12,
     "metadata": {},
     "output_type": "execute_result"
    }
   ],
   "source": [
    "verify(\"images/1.jpg\", \"alireza\", database)"
   ]
  },
  {
   "cell_type": "markdown",
   "metadata": {},
   "source": [
    "<img src='images/ali.jpg' style=\"width: 100px;\"><img src='images/alireza.jpg' style=\"width: 100px;\">"
   ]
  },
  {
   "cell_type": "code",
   "execution_count": 13,
   "metadata": {
    "collapsed": false
   },
   "outputs": [
    {
     "name": "stdout",
     "output_type": "stream",
     "text": [
      "It's not alireza, please go away\n"
     ]
    },
    {
     "data": {
      "text/plain": [
       "1.5036651710275648"
      ]
     },
     "execution_count": 13,
     "metadata": {},
     "output_type": "execute_result"
    }
   ],
   "source": [
    "verify(\"images/ali.jpg\", \"alireza\", database)"
   ]
  },
  {
   "cell_type": "markdown",
   "metadata": {},
   "source": [
    "### <div style=\"direction:rtl;text-align:right;font-family:B Lotus, B Nazanin, Tahoma\">بازشناسی چهره (Face Recognition)</div>"
   ]
  },
  {
   "cell_type": "code",
   "execution_count": 14,
   "metadata": {
    "collapsed": false
   },
   "outputs": [],
   "source": [
    "def who_is_it(image_path, database):\n",
    "   \n",
    "    ## Step 1: Compute the target \"encoding\" for the image. Use img_to_encoding()\n",
    "    encoding = img_to_encoding(image_path)\n",
    "    \n",
    "    ## Step 2: Find the closest encoding ##\n",
    "    \n",
    "    # Initialize \"min_dist\" to a large value, say 100 \n",
    "    min_dist = 1000\n",
    "    # Loop over the database dictionary's names and encodings.\n",
    "    for (name, db_enc) in database.items():\n",
    "        # Compute L2 distance between the target \"encoding\" and the current \"emb\" from the database. (≈ 1 line)\n",
    "        dist = distance(encoding, db_enc)\n",
    "\n",
    "        # If this distance is less than the min_dist, then set min_dist to dist, and identity to name. (≈ 3 lines)\n",
    "        if min_dist > dist:\n",
    "            min_dist = dist\n",
    "            identity = name\n",
    "\n",
    "  \n",
    "    if min_dist > verification_threshhold:\n",
    "        print(\"Not in the database.\")\n",
    "    else:\n",
    "        print (\"it's \" + str(identity) + \", the distance is \" + str(min_dist))\n",
    "        \n",
    "    return min_dist, identity"
   ]
  },
  {
   "cell_type": "markdown",
   "metadata": {},
   "source": [
    "<img src='images/alireza-in-part.jpg' style=\"width: 500px;\">"
   ]
  },
  {
   "cell_type": "code",
   "execution_count": 15,
   "metadata": {
    "collapsed": false
   },
   "outputs": [
    {
     "name": "stdout",
     "output_type": "stream",
     "text": [
      "it's alireza, the distance is 0.802995094008\n"
     ]
    },
    {
     "data": {
      "text/plain": [
       "(0.80299509400790148, 'alireza')"
      ]
     },
     "execution_count": 15,
     "metadata": {},
     "output_type": "execute_result"
    }
   ],
   "source": [
    "who_is_it(\"images/alireza-in-part.jpg\", database)"
   ]
  },
  {
   "cell_type": "markdown",
   "metadata": {},
   "source": [
    "<img src='images/m.jpg' style=\"width: 160px;\">"
   ]
  },
  {
   "cell_type": "code",
   "execution_count": 16,
   "metadata": {
    "collapsed": false
   },
   "outputs": [
    {
     "name": "stdout",
     "output_type": "stream",
     "text": [
      "Not in the database.\n"
     ]
    },
    {
     "data": {
      "text/plain": [
       "(1.2373068938673721, 'muhammad')"
      ]
     },
     "execution_count": 16,
     "metadata": {},
     "output_type": "execute_result"
    }
   ],
   "source": [
    "who_is_it(\"images/m.jpg\", database)"
   ]
  },
  {
   "cell_type": "markdown",
   "metadata": {},
   "source": [
    "<img src='images/m_wrapped.jpg' style=\"width: 160px;\">"
   ]
  },
  {
   "cell_type": "code",
   "execution_count": 17,
   "metadata": {
    "collapsed": false
   },
   "outputs": [
    {
     "name": "stdout",
     "output_type": "stream",
     "text": [
      "it's mohsen, the distance is 0.365279091677\n"
     ]
    },
    {
     "data": {
      "text/plain": [
       "(0.3652790916772739, 'mohsen')"
      ]
     },
     "execution_count": 17,
     "metadata": {},
     "output_type": "execute_result"
    }
   ],
   "source": [
    "who_is_it(\"images/m_wrapped.jpg\", database)"
   ]
  },
  {
   "cell_type": "markdown",
   "metadata": {},
   "source": [
    "<div class=\"alert alert-block alert-info\">\n",
    "<div style=\"direction:rtl;text-align:right;font-family:B Lotus, B Nazanin, Tahoma\"> دوره تابستانه یادگیری عمیق مرکز تحقیقات هوش پارت<br>علیرضا اخوان پور<br>8 تا 9 شهریور 1397<br>\n",
    "</div>\n",
    "<a href=\"http://class.vision\">Class.Vision</a> - <a href=\"http://AkhavanPour.ir\">AkhavanPour.ir</a> - <a href=\"https://github.com/Alireza-Akhavan/\">GitHub</a>\n",
    "\n",
    "</div>"
   ]
  }
 ],
 "metadata": {
  "anaconda-cloud": {},
  "kernelspec": {
   "display_name": "Python [conda env:keras]",
   "language": "python",
   "name": "conda-env-keras-py"
  },
  "language_info": {
   "codemirror_mode": {
    "name": "ipython",
    "version": 3
   },
   "file_extension": ".py",
   "mimetype": "text/x-python",
   "name": "python",
   "nbconvert_exporter": "python",
   "pygments_lexer": "ipython3",
   "version": "3.5.4"
  }
 },
 "nbformat": 4,
 "nbformat_minor": 1
}
